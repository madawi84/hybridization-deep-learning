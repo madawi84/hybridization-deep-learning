{
  "nbformat": 4,
  "nbformat_minor": 0,
  "metadata": {
    "colab": {
      "provenance": [],
      "toc_visible": true
    },
    "kernelspec": {
      "name": "python3",
      "display_name": "Python 3"
    },
    "language_info": {
      "name": "python"
    }
  },
  "cells": [
    {
      "cell_type": "markdown",
      "source": [
        "# Libraries"
      ],
      "metadata": {
        "id": "KApxufMGWxJG"
      }
    },
    {
      "cell_type": "code",
      "source": [
        "!pip install d2l"
      ],
      "metadata": {
        "id": "61adGMYrY5_U"
      },
      "execution_count": null,
      "outputs": []
    },
    {
      "cell_type": "code",
      "source": [
        "import tensorflow as tf\n",
        "from tensorflow.keras.layers import Dense\n",
        "from d2l import tensorflow as d2l\n",
        "import time"
      ],
      "metadata": {
        "id": "lRu_uTnNWxiQ"
      },
      "execution_count": 7,
      "outputs": []
    },
    {
      "cell_type": "markdown",
      "source": [
        "# Keras Neural Network Module"
      ],
      "metadata": {
        "id": "XjorOdxjW3ML"
      }
    },
    {
      "cell_type": "code",
      "source": [
        "# Define a simple neural network using the tf.keras API\n",
        "def get_net():\n",
        "    net = tf.keras.Sequential()\n",
        "    net.add(Dense(256, input_shape = (512,), activation = \"relu\"))\n",
        "    net.add(Dense(128, activation = \"relu\"))\n",
        "    net.add(Dense(2, activation = \"linear\"))\n",
        "    return net"
      ],
      "metadata": {
        "id": "OL2EwAEdW9Rt"
      },
      "execution_count": 8,
      "outputs": []
    },
    {
      "cell_type": "code",
      "source": [
        "# Create a random input tensor with shape (1000, 512)\n",
        "t = tf.random.uniform((1000, 512))"
      ],
      "metadata": {
        "id": "kbyKVP3EXe4x"
      },
      "execution_count": 9,
      "outputs": []
    },
    {
      "cell_type": "markdown",
      "source": [
        "# Measure Speed using Benchmark class"
      ],
      "metadata": {
        "id": "pa0XCrGBXNXY"
      }
    },
    {
      "cell_type": "code",
      "source": [
        "# Define a Benchmark class to measure the time it takes to run the network\n",
        "class Benchmark:\n",
        "    \"\"\"For measuring running time.\"\"\"\n",
        "    def __init__(self, description='Done'):\n",
        "        self.description = description\n",
        "\n",
        "    def __enter__(self):\n",
        "        self.timer = d2l.Timer()\n",
        "        return self\n",
        "\n",
        "    def __exit__(self, *args):\n",
        "        print(f'{self.description}: {self.timer.stop():.4f} sec')"
      ],
      "metadata": {
        "id": "N1Yds-v4XK5T"
      },
      "execution_count": 10,
      "outputs": []
    },
    {
      "cell_type": "markdown",
      "source": [
        "# Compair Speeds"
      ],
      "metadata": {
        "id": "1NjzBdZVXpfV"
      }
    },
    {
      "cell_type": "markdown",
      "source": [
        "## Eager mode"
      ],
      "metadata": {
        "id": "79jLbpssXr0U"
      }
    },
    {
      "cell_type": "code",
      "execution_count": 11,
      "metadata": {
        "colab": {
          "base_uri": "https://localhost:8080/"
        },
        "id": "oplYbI2tWsgB",
        "outputId": "f5e5b52a-20bd-432a-e41c-d6821e407e90"
      },
      "outputs": [
        {
          "output_type": "stream",
          "name": "stdout",
          "text": [
            "Eager Mode: 51.2321 sec\n"
          ]
        }
      ],
      "source": [
        "# Create the neural network and run it for 5000 iterations in eager mode\n",
        "net = get_net()\n",
        "with Benchmark('Eager Mode'):\n",
        "    for i in range(5000): net(t)"
      ]
    },
    {
      "cell_type": "markdown",
      "source": [
        "## Graph mode"
      ],
      "metadata": {
        "id": "J988Rtl5XzAZ"
      }
    },
    {
      "cell_type": "code",
      "source": [
        "# Convert the neural network to a graph function using tf.function\n",
        "net = tf.function(net)\n",
        "\n",
        "# Run the neural network for 5000 iterations in graph mode\n",
        "with Benchmark('Graph Mode'):\n",
        "    for i in range(5000): net(t)"
      ],
      "metadata": {
        "colab": {
          "base_uri": "https://localhost:8080/"
        },
        "id": "I9nywV6UXyXw",
        "outputId": "667ba851-fc7f-4cc9-827b-ca749b60b4d9"
      },
      "execution_count": 12,
      "outputs": [
        {
          "output_type": "stream",
          "name": "stdout",
          "text": [
            "Graph Mode: 35.7122 sec\n"
          ]
        }
      ]
    }
  ]
}